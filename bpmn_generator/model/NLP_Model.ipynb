{
 "cells": [
  {
   "cell_type": "code",
   "execution_count": 1,
   "metadata": {
    "collapsed": true
   },
   "outputs": [],
   "source": [
    "import spacy\n",
    "import re\n",
    "import pandas as pd"
   ]
  },
  {
   "cell_type": "code",
   "execution_count": 2,
   "metadata": {
    "collapsed": false
   },
   "outputs": [],
   "source": [
    "nlp = spacy.load(\"en_core_web_sm\")"
   ]
  },
  {
   "cell_type": "code",
   "execution_count": 17,
   "metadata": {
    "collapsed": false
   },
   "outputs": [],
   "source": [
    "def extract_entities(text):\n",
    "    doc = nlp(text)\n",
    "    actor_task_pairs = []\n",
    "    last_actor = ''\n",
    "\n",
    "\n",
    "    for i in range(len(doc) - 3):\n",
    "        #First Rule\n",
    "        if (doc[i].tag_ == 'DT' and (doc[i+1].tag_ == 'NN' or doc[i+1].tag_ == 'NNP') and (doc[i+2].tag_ == 'VBZ' or doc[i+2].tag_ == 'VBD' or doc[i + 2].tag_ == 'VB') and\n",
    "                doc[i+3].tag_ == 'DT' and doc[i+4].tag_ == 'NN'):\n",
    "            last_actor = doc[i+1].text\n",
    "            actor = doc[i+1].text\n",
    "            task = ' '.join([doc[i+2].text, doc[i+3].text, doc[i+4].text])\n",
    "            actor_task_pairs.append((actor, task))\n",
    "\n",
    "        #Second Rule\n",
    "        if (doc[i].tag_ == 'DT' and doc[i + 1].tag_ == 'NN' and doc[i + 2].tag_ == 'IN' and doc[i + 3].tag_ == 'NN' and doc[i + 4].tag_ == 'NN'):\n",
    "            last_actor = doc[i+1].text\n",
    "            actor = doc[i+1].text\n",
    "            task = ' '.join([doc[i+3].text, doc[i+4].text])\n",
    "            actor_task_pairs.append((actor, task))\n",
    "\n",
    "        #Third Rule\n",
    "        if (doc[i].tag_ == 'DT' and doc[i+1].tag_ == 'NN' and doc[i+2].tag_ == 'NN' and doc[i+3].tag_ == 'MD' and doc[i+4].tag_ == 'VB' and doc[i+5].tag_ == 'DT' and doc[i+6].tag_ == 'NN'):\n",
    "            last_actor = doc[i+1].text\n",
    "            actor = doc[i+1].text\n",
    "            task = ' '.join([doc[i+4].text, doc[i+5].text, doc[i+6].text] )\n",
    "            actor_task_pairs.append((actor, task))\n",
    "\n",
    "        #Sixth Rule\n",
    "        # if (doc[i].tag_ == 'VB' and doc[i+1].tag_ == 'DT' and doc[i+2].tag_ == 'NN' and doc[i+3].tag_ == 'IN' and doc[i+4].tag_ == 'DT' and doc[i+5] == 'NN'):\n",
    "        #     task = ' '\n",
    "\n",
    "\n",
    "\n",
    "\n",
    "\n",
    "\n",
    "    for actor, task in actor_task_pairs:\n",
    "        print(f\"{actor} :\\n{task}\")\n"
   ]
  },
  {
   "cell_type": "markdown",
   "metadata": {},
   "source": [
    "# Input Paragraph"
   ]
  },
  {
   "cell_type": "code",
   "execution_count": 15,
   "metadata": {
    "collapsed": false
   },
   "outputs": [],
   "source": [
    "text = \"JawaCorp identified a need for new computer hardware to upgrade their design department. An employee from the department drafted a purchase requisition detailing the specifications and quantity of the hardware needed. Since the purchase exceeded the company’s threshold for automatic approval, the requisition was routed to the department manager. After reviewing the necessity and budget implications, the manager approved the request. The procurement department then took over, conducting market research to identify potential suppliers. They reached out to several vendors, requesting quotes for the specified computer hardware. Once all quotes were received, the procurement team evaluated them based on price, warranty, delivery time, and vendor reliability. A supplier was selected for their competitive pricing and proven track record of timely deliveries. The procurement team created a purchase order (PO) and sent it to the chosen supplier, who confirmed receipt and agreed to fulfill the order as per the terms. Upon receiving the shipment, JawaCorp conducted a thorough quality check to ensure all hardware met their high standards. The goods passed inspection, and the finance department proceeded with processing payment to the supplier, successfully concluding JawaCorp’s procurement process\""
   ]
  },
  {
   "cell_type": "markdown",
   "metadata": {
    "collapsed": false
   },
   "source": [
    "# BPMN Sketch Miner Syntax Output"
   ]
  },
  {
   "cell_type": "code",
   "execution_count": 18,
   "metadata": {
    "collapsed": false
   },
   "outputs": [
    {
     "name": "stdout",
     "output_type": "stream",
     "text": [
      "department :\n",
      "drafted a purchase\n",
      "purchase :\n",
      "exceeded the company\n",
      "manager :\n",
      "approved the request\n"
     ]
    }
   ],
   "source": [
    "extract_entities(text)"
   ]
  }
 ],
 "metadata": {
  "kernelspec": {
   "display_name": "Python 3",
   "language": "python",
   "name": "python3"
  },
  "language_info": {
   "codemirror_mode": {
    "name": "ipython",
    "version": 3
   },
   "file_extension": ".py",
   "mimetype": "text/x-python",
   "name": "python",
   "nbconvert_exporter": "python",
   "pygments_lexer": "ipython3",
   "version": "3.12.4"
  }
 },
 "nbformat": 4,
 "nbformat_minor": 0
}
