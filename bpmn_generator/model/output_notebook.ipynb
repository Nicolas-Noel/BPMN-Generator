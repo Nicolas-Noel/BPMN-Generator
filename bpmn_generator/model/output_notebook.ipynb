{
 "cells": [
  {
   "cell_type": "code",
   "execution_count": 1,
   "id": "eb2da629",
   "metadata": {
    "execution": {
     "iopub.execute_input": "2024-06-30T13:00:33.791333Z",
     "iopub.status.busy": "2024-06-30T13:00:33.790307Z",
     "iopub.status.idle": "2024-06-30T13:00:33.799373Z",
     "shell.execute_reply": "2024-06-30T13:00:33.798373Z"
    },
    "papermill": {
     "duration": 0.02202,
     "end_time": "2024-06-30T13:00:33.802696",
     "exception": false,
     "start_time": "2024-06-30T13:00:33.780676",
     "status": "completed"
    },
    "tags": [
     "injected-parameters"
    ]
   },
   "outputs": [],
   "source": [
    "# Parameters\n",
    "text = \"JawaCorp identified a need for new computer hardware to upgrade their design department. An employee from the department drafted a purchase requisition detailing the specifications and quantity of the hardware needed.\"\n"
   ]
  },
  {
   "cell_type": "code",
   "execution_count": 2,
   "id": "64300614",
   "metadata": {
    "collapsed": true,
    "execution": {
     "iopub.execute_input": "2024-06-30T13:00:33.816837Z",
     "iopub.status.busy": "2024-06-30T13:00:33.815837Z",
     "iopub.status.idle": "2024-06-30T13:00:37.562173Z",
     "shell.execute_reply": "2024-06-30T13:00:37.561125Z"
    },
    "papermill": {
     "duration": 3.75817,
     "end_time": "2024-06-30T13:00:37.565867",
     "exception": false,
     "start_time": "2024-06-30T13:00:33.807697",
     "status": "completed"
    },
    "tags": []
   },
   "outputs": [],
   "source": [
    "import spacy\n",
    "import re\n",
    "import pandas as pd"
   ]
  },
  {
   "cell_type": "code",
   "execution_count": 3,
   "id": "2e54e572",
   "metadata": {
    "collapsed": false,
    "execution": {
     "iopub.execute_input": "2024-06-30T13:00:37.580539Z",
     "iopub.status.busy": "2024-06-30T13:00:37.579041Z",
     "iopub.status.idle": "2024-06-30T13:00:38.506477Z",
     "shell.execute_reply": "2024-06-30T13:00:38.504977Z"
    },
    "papermill": {
     "duration": 0.939336,
     "end_time": "2024-06-30T13:00:38.509770",
     "exception": false,
     "start_time": "2024-06-30T13:00:37.570434",
     "status": "completed"
    },
    "tags": []
   },
   "outputs": [],
   "source": [
    "nlp = spacy.load(\"en_core_web_sm\")"
   ]
  },
  {
   "cell_type": "code",
   "execution_count": 4,
   "id": "2893df99",
   "metadata": {
    "collapsed": false,
    "execution": {
     "iopub.execute_input": "2024-06-30T13:00:38.523486Z",
     "iopub.status.busy": "2024-06-30T13:00:38.522984Z",
     "iopub.status.idle": "2024-06-30T13:00:38.536985Z",
     "shell.execute_reply": "2024-06-30T13:00:38.535984Z"
    },
    "papermill": {
     "duration": 0.024351,
     "end_time": "2024-06-30T13:00:38.539677",
     "exception": false,
     "start_time": "2024-06-30T13:00:38.515326",
     "status": "completed"
    },
    "tags": []
   },
   "outputs": [],
   "source": [
    "def extract_entities(text):\n",
    "    doc = nlp(text)\n",
    "    actor_task_pairs = []\n",
    "    last_actor = ''\n",
    "\n",
    "\n",
    "    for i in range(len(doc) - 3):\n",
    "        #First Rule\n",
    "        if (doc[i].tag_ == 'DT' and (doc[i+1].tag_ == 'NN' or doc[i+1].tag_ == 'NNP') and (doc[i+2].tag_ == 'VBZ' or doc[i+2].tag_ == 'VBD' or doc[i + 2].tag_ == 'VB') and\n",
    "                doc[i+3].tag_ == 'DT' and doc[i+4].tag_ == 'NN'):\n",
    "            last_actor = doc[i+1].text\n",
    "            actor = doc[i+1].text\n",
    "            task = ' '.join([doc[i+2].text, doc[i+3].text, doc[i+4].text])\n",
    "            actor_task_pairs.append((actor, task))\n",
    "\n",
    "        #Second Rule\n",
    "        if (doc[i].tag_ == 'DT' and doc[i + 1].tag_ == 'NN' and doc[i + 2].tag_ == 'IN' and doc[i + 3].tag_ == 'NN' and doc[i + 4].tag_ == 'NN'):\n",
    "            last_actor = doc[i+1].text\n",
    "            actor = doc[i+1].text\n",
    "            task = ' '.join([doc[i+3].text, doc[i+4].text])\n",
    "            actor_task_pairs.append((actor, task))\n",
    "\n",
    "        #Third Rule\n",
    "        if (doc[i].tag_ == 'DT' and doc[i+1].tag_ == 'NN' and doc[i+2].tag_ == 'NN' and doc[i+3].tag_ == 'MD' and doc[i+4].tag_ == 'VB' and doc[i+5].tag_ == 'DT' and doc[i+6].tag_ == 'NN'):\n",
    "            last_actor = doc[i+1].text\n",
    "            actor = doc[i+1].text\n",
    "            task = ' '.join([doc[i+4].text, doc[i+5].text, doc[i+6].text] )\n",
    "            actor_task_pairs.append((actor, task))\n",
    "\n",
    "        #Sixth Rule\n",
    "        # if (doc[i].tag_ == 'VB' and doc[i+1].tag_ == 'DT' and doc[i+2].tag_ == 'NN' and doc[i+3].tag_ == 'IN' and doc[i+4].tag_ == 'DT' and doc[i+5] == 'NN'):\n",
    "        #     task = ' '\n",
    "\n",
    "\n",
    "\n",
    "\n",
    "\n",
    "\n",
    "    for actor, task in actor_task_pairs:\n",
    "        print(f\"{actor} :\\n{task}\")\n"
   ]
  },
  {
   "cell_type": "markdown",
   "id": "b3dbfade",
   "metadata": {
    "papermill": {
     "duration": 0.004997,
     "end_time": "2024-06-30T13:00:38.549750",
     "exception": false,
     "start_time": "2024-06-30T13:00:38.544753",
     "status": "completed"
    },
    "tags": []
   },
   "source": [
    "# Input Paragraph"
   ]
  },
  {
   "cell_type": "code",
   "execution_count": 5,
   "id": "82473884",
   "metadata": {
    "collapsed": false,
    "execution": {
     "iopub.execute_input": "2024-06-30T13:00:38.562773Z",
     "iopub.status.busy": "2024-06-30T13:00:38.561774Z",
     "iopub.status.idle": "2024-06-30T13:00:38.570002Z",
     "shell.execute_reply": "2024-06-30T13:00:38.568777Z"
    },
    "papermill": {
     "duration": 0.018251,
     "end_time": "2024-06-30T13:00:38.573001",
     "exception": false,
     "start_time": "2024-06-30T13:00:38.554750",
     "status": "completed"
    },
    "tags": []
   },
   "outputs": [],
   "source": [
    "text_example = \"JawaCorp identified a need for new computer hardware to upgrade their design department. An employee from the department drafted a purchase requisition detailing the specifications and quantity of the hardware needed. Since the purchase exceeded the company’s threshold for automatic approval, the requisition was routed to the department manager. After reviewing the necessity and budget implications, the manager approved the request. The procurement department then took over, conducting market research to identify potential suppliers. They reached out to several vendors, requesting quotes for the specified computer hardware. Once all quotes were received, the procurement team evaluated them based on price, warranty, delivery time, and vendor reliability. A supplier was selected for their competitive pricing and proven track record of timely deliveries. The procurement team created a purchase order (PO) and sent it to the chosen supplier, who confirmed receipt and agreed to fulfill the order as per the terms. Upon receiving the shipment, JawaCorp conducted a thorough quality check to ensure all hardware met their high standards. The goods passed inspection, and the finance department proceeded with processing payment to the supplier, successfully concluding JawaCorp’s procurement process\""
   ]
  },
  {
   "cell_type": "markdown",
   "id": "5c47047e",
   "metadata": {
    "collapsed": false,
    "papermill": {
     "duration": 0.0045,
     "end_time": "2024-06-30T13:00:38.582002",
     "exception": false,
     "start_time": "2024-06-30T13:00:38.577502",
     "status": "completed"
    },
    "tags": []
   },
   "source": [
    "# BPMN Sketch Miner Syntax Output"
   ]
  },
  {
   "cell_type": "code",
   "execution_count": 6,
   "id": "1a81c7fe",
   "metadata": {
    "collapsed": false,
    "execution": {
     "iopub.execute_input": "2024-06-30T13:00:38.594729Z",
     "iopub.status.busy": "2024-06-30T13:00:38.594729Z",
     "iopub.status.idle": "2024-06-30T13:00:38.628200Z",
     "shell.execute_reply": "2024-06-30T13:00:38.627201Z"
    },
    "papermill": {
     "duration": 0.04379,
     "end_time": "2024-06-30T13:00:38.630713",
     "exception": false,
     "start_time": "2024-06-30T13:00:38.586923",
     "status": "completed"
    },
    "tags": []
   },
   "outputs": [
    {
     "name": "stdout",
     "output_type": "stream",
     "text": [
      "department :\n",
      "drafted a purchase\n"
     ]
    }
   ],
   "source": [
    "result = extract_entities(text)"
   ]
  },
  {
   "cell_type": "code",
   "execution_count": 7,
   "id": "ae85207b",
   "metadata": {
    "execution": {
     "iopub.execute_input": "2024-06-30T13:00:38.643713Z",
     "iopub.status.busy": "2024-06-30T13:00:38.643713Z",
     "iopub.status.idle": "2024-06-30T13:00:38.650665Z",
     "shell.execute_reply": "2024-06-30T13:00:38.649650Z"
    },
    "papermill": {
     "duration": 0.01634,
     "end_time": "2024-06-30T13:00:38.652055",
     "exception": false,
     "start_time": "2024-06-30T13:00:38.635715",
     "status": "completed"
    },
    "tags": []
   },
   "outputs": [
    {
     "name": "stdout",
     "output_type": "stream",
     "text": [
      "None\n"
     ]
    }
   ],
   "source": [
    "print(result)"
   ]
  }
 ],
 "metadata": {
  "kernelspec": {
   "display_name": "Python 3",
   "language": "python",
   "name": "python3"
  },
  "language_info": {
   "codemirror_mode": {
    "name": "ipython",
    "version": 3
   },
   "file_extension": ".py",
   "mimetype": "text/x-python",
   "name": "python",
   "nbconvert_exporter": "python",
   "pygments_lexer": "ipython3",
   "version": "3.12.0"
  },
  "papermill": {
   "default_parameters": {},
   "duration": 8.837813,
   "end_time": "2024-06-30T13:00:39.864675",
   "environment_variables": {},
   "exception": null,
   "input_path": "bpmn_generator/model/NLP_Model.ipynb",
   "output_path": "bpmn_generator/model/output_notebook.ipynb",
   "parameters": {
    "text": "JawaCorp identified a need for new computer hardware to upgrade their design department. An employee from the department drafted a purchase requisition detailing the specifications and quantity of the hardware needed."
   },
   "start_time": "2024-06-30T13:00:31.026862",
   "version": "2.6.0"
  }
 },
 "nbformat": 4,
 "nbformat_minor": 5
}