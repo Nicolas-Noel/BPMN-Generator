{
 "cells": [
  {
   "cell_type": "code",
   "execution_count": 1,
   "id": "c56ebb47",
   "metadata": {
    "execution": {
     "iopub.execute_input": "2024-06-30T13:46:27.341682Z",
     "iopub.status.busy": "2024-06-30T13:46:27.340676Z",
     "iopub.status.idle": "2024-06-30T13:46:27.350415Z",
     "shell.execute_reply": "2024-06-30T13:46:27.349212Z"
    },
    "papermill": {
     "duration": 0.020813,
     "end_time": "2024-06-30T13:46:27.352245",
     "exception": false,
     "start_time": "2024-06-30T13:46:27.331432",
     "status": "completed"
    },
    "tags": [
     "injected-parameters"
    ]
   },
   "outputs": [],
   "source": [
    "# Parameters\n",
    "text = \"JawaCorp identified a need for new computer hardware to upgrade their design department. An employee from the department drafted a purchase requisition detailing the specifications and quantity of the hardware needed. Since the purchase exceeded the company\\u2019s threshold for automatic approval, the requisition was routed to the department manager. After reviewing the necessity and budget implications, the manager approved the request. The procurement department then took over, conducting market research to identify potential suppliers. They reached out to several vendors, requesting quotes for the specified computer hardware. Once all quotes were received, the procurement team evaluated them based on price, warranty, delivery time, and vendor reliability. A supplier was selected for their competitive pricing and proven track record of timely deliveries. The procurement team created a purchase order (PO) and sent it to the chosen supplier, who confirmed receipt and agreed to fulfill the order as per the terms. Upon receiving the shipment, JawaCorp conducted a thorough quality check to ensure all hardware met their high standards. The goods passed inspection, and the finance department proceeded with processing payment to the supplier, successfully concluding JawaCorp\\u2019s procurement process\"\n"
   ]
  },
  {
   "cell_type": "code",
   "execution_count": 2,
   "id": "152c3858",
   "metadata": {
    "collapsed": true,
    "execution": {
     "iopub.execute_input": "2024-06-30T13:46:27.367147Z",
     "iopub.status.busy": "2024-06-30T13:46:27.366147Z",
     "iopub.status.idle": "2024-06-30T13:46:31.514015Z",
     "shell.execute_reply": "2024-06-30T13:46:31.512633Z"
    },
    "papermill": {
     "duration": 4.159954,
     "end_time": "2024-06-30T13:46:31.518150",
     "exception": false,
     "start_time": "2024-06-30T13:46:27.358196",
     "status": "completed"
    },
    "tags": []
   },
   "outputs": [],
   "source": [
    "import spacy\n",
    "import re\n",
    "import pandas as pd"
   ]
  },
  {
   "cell_type": "code",
   "execution_count": 3,
   "id": "72c8f416",
   "metadata": {
    "collapsed": false,
    "execution": {
     "iopub.execute_input": "2024-06-30T13:46:31.535208Z",
     "iopub.status.busy": "2024-06-30T13:46:31.533490Z",
     "iopub.status.idle": "2024-06-30T13:46:32.528652Z",
     "shell.execute_reply": "2024-06-30T13:46:32.527156Z"
    },
    "papermill": {
     "duration": 1.007589,
     "end_time": "2024-06-30T13:46:32.532155",
     "exception": false,
     "start_time": "2024-06-30T13:46:31.524566",
     "status": "completed"
    },
    "tags": []
   },
   "outputs": [],
   "source": [
    "nlp = spacy.load(\"en_core_web_sm\")"
   ]
  },
  {
   "cell_type": "code",
   "execution_count": 4,
   "id": "240016b1",
   "metadata": {
    "collapsed": false,
    "execution": {
     "iopub.execute_input": "2024-06-30T13:46:32.547788Z",
     "iopub.status.busy": "2024-06-30T13:46:32.546797Z",
     "iopub.status.idle": "2024-06-30T13:46:32.561289Z",
     "shell.execute_reply": "2024-06-30T13:46:32.560290Z"
    },
    "papermill": {
     "duration": 0.025635,
     "end_time": "2024-06-30T13:46:32.563788",
     "exception": false,
     "start_time": "2024-06-30T13:46:32.538153",
     "status": "completed"
    },
    "tags": []
   },
   "outputs": [],
   "source": [
    "def extract_entities(text):\n",
    "    doc = nlp(text)\n",
    "    actor_task_pairs = []\n",
    "    last_actor = ''\n",
    "\n",
    "\n",
    "    for i in range(len(doc) - 3):\n",
    "        #First Rule\n",
    "        if (doc[i].tag_ == 'DT' and (doc[i+1].tag_ == 'NN' or doc[i+1].tag_ == 'NNP') and (doc[i+2].tag_ == 'VBZ' or doc[i+2].tag_ == 'VBD' or doc[i + 2].tag_ == 'VB') and\n",
    "                doc[i+3].tag_ == 'DT' and doc[i+4].tag_ == 'NN'):\n",
    "            last_actor = doc[i+1].text\n",
    "            actor = doc[i+1].text\n",
    "            task = ' '.join([doc[i+2].text, doc[i+3].text, doc[i+4].text])\n",
    "            actor_task_pairs.append((actor, task))\n",
    "\n",
    "        #Second Rule\n",
    "        if (doc[i].tag_ == 'DT' and doc[i + 1].tag_ == 'NN' and doc[i + 2].tag_ == 'IN' and doc[i + 3].tag_ == 'NN' and doc[i + 4].tag_ == 'NN'):\n",
    "            last_actor = doc[i+1].text\n",
    "            actor = doc[i+1].text\n",
    "            task = ' '.join([doc[i+3].text, doc[i+4].text])\n",
    "            actor_task_pairs.append((actor, task))\n",
    "\n",
    "        #Third Rule\n",
    "        if (doc[i].tag_ == 'DT' and doc[i+1].tag_ == 'NN' and doc[i+2].tag_ == 'NN' and doc[i+3].tag_ == 'MD' and doc[i+4].tag_ == 'VB' and doc[i+5].tag_ == 'DT' and doc[i+6].tag_ == 'NN'):\n",
    "            last_actor = doc[i+1].text\n",
    "            actor = doc[i+1].text\n",
    "            task = ' '.join([doc[i+4].text, doc[i+5].text, doc[i+6].text] )\n",
    "            actor_task_pairs.append((actor, task))\n",
    "\n",
    "        #Sixth Rule\n",
    "        # if (doc[i].tag_ == 'VB' and doc[i+1].tag_ == 'DT' and doc[i+2].tag_ == 'NN' and doc[i+3].tag_ == 'IN' and doc[i+4].tag_ == 'DT' and doc[i+5] == 'NN'):\n",
    "        #     task = ' '\n",
    "\n",
    "\n",
    "\n",
    "\n",
    "\n",
    "\n",
    "    for actor, task in actor_task_pairs:\n",
    "        print(f\"{actor} :\\n{task}\")\n"
   ]
  },
  {
   "cell_type": "markdown",
   "id": "1db3b829",
   "metadata": {
    "papermill": {
     "duration": 0.004565,
     "end_time": "2024-06-30T13:46:32.573353",
     "exception": false,
     "start_time": "2024-06-30T13:46:32.568788",
     "status": "completed"
    },
    "tags": []
   },
   "source": [
    "# Input Paragraph"
   ]
  },
  {
   "cell_type": "code",
   "execution_count": 5,
   "id": "740cc21a",
   "metadata": {
    "collapsed": false,
    "execution": {
     "iopub.execute_input": "2024-06-30T13:46:32.586592Z",
     "iopub.status.busy": "2024-06-30T13:46:32.586093Z",
     "iopub.status.idle": "2024-06-30T13:46:32.593592Z",
     "shell.execute_reply": "2024-06-30T13:46:32.592593Z"
    },
    "papermill": {
     "duration": 0.017284,
     "end_time": "2024-06-30T13:46:32.595593",
     "exception": false,
     "start_time": "2024-06-30T13:46:32.578309",
     "status": "completed"
    },
    "tags": []
   },
   "outputs": [],
   "source": [
    "text_example = \"JawaCorp identified a need for new computer hardware to upgrade their design department. An employee from the department drafted a purchase requisition detailing the specifications and quantity of the hardware needed. Since the purchase exceeded the company’s threshold for automatic approval, the requisition was routed to the department manager. After reviewing the necessity and budget implications, the manager approved the request. The procurement department then took over, conducting market research to identify potential suppliers. They reached out to several vendors, requesting quotes for the specified computer hardware. Once all quotes were received, the procurement team evaluated them based on price, warranty, delivery time, and vendor reliability. A supplier was selected for their competitive pricing and proven track record of timely deliveries. The procurement team created a purchase order (PO) and sent it to the chosen supplier, who confirmed receipt and agreed to fulfill the order as per the terms. Upon receiving the shipment, JawaCorp conducted a thorough quality check to ensure all hardware met their high standards. The goods passed inspection, and the finance department proceeded with processing payment to the supplier, successfully concluding JawaCorp’s procurement process\""
   ]
  },
  {
   "cell_type": "markdown",
   "id": "825d496e",
   "metadata": {
    "collapsed": false,
    "papermill": {
     "duration": 0.004995,
     "end_time": "2024-06-30T13:46:32.605592",
     "exception": false,
     "start_time": "2024-06-30T13:46:32.600597",
     "status": "completed"
    },
    "tags": []
   },
   "source": [
    "# BPMN Sketch Miner Syntax Output"
   ]
  },
  {
   "cell_type": "code",
   "execution_count": 6,
   "id": "0f8773e0",
   "metadata": {
    "collapsed": false,
    "execution": {
     "iopub.execute_input": "2024-06-30T13:46:32.619866Z",
     "iopub.status.busy": "2024-06-30T13:46:32.618873Z",
     "iopub.status.idle": "2024-06-30T13:46:32.706882Z",
     "shell.execute_reply": "2024-06-30T13:46:32.705882Z"
    },
    "papermill": {
     "duration": 0.099011,
     "end_time": "2024-06-30T13:46:32.709603",
     "exception": false,
     "start_time": "2024-06-30T13:46:32.610592",
     "status": "completed"
    },
    "tags": []
   },
   "outputs": [
    {
     "name": "stdout",
     "output_type": "stream",
     "text": [
      "department :\n",
      "drafted a purchase\n",
      "purchase :\n",
      "exceeded the company\n",
      "manager :\n",
      "approved the request\n"
     ]
    }
   ],
   "source": [
    "result = extract_entities(text)"
   ]
  },
  {
   "cell_type": "code",
   "execution_count": 7,
   "id": "1dcb9040",
   "metadata": {
    "execution": {
     "iopub.execute_input": "2024-06-30T13:46:32.723517Z",
     "iopub.status.busy": "2024-06-30T13:46:32.722442Z",
     "iopub.status.idle": "2024-06-30T13:46:32.729454Z",
     "shell.execute_reply": "2024-06-30T13:46:32.728410Z"
    },
    "papermill": {
     "duration": 0.017248,
     "end_time": "2024-06-30T13:46:32.731454",
     "exception": false,
     "start_time": "2024-06-30T13:46:32.714206",
     "status": "completed"
    },
    "tags": []
   },
   "outputs": [
    {
     "name": "stdout",
     "output_type": "stream",
     "text": [
      "None\n"
     ]
    }
   ],
   "source": [
    "print(result)"
   ]
  }
 ],
 "metadata": {
  "kernelspec": {
   "display_name": "Python 3",
   "language": "python",
   "name": "python3"
  },
  "language_info": {
   "codemirror_mode": {
    "name": "ipython",
    "version": 3
   },
   "file_extension": ".py",
   "mimetype": "text/x-python",
   "name": "python",
   "nbconvert_exporter": "python",
   "pygments_lexer": "ipython3",
   "version": "3.12.0"
  },
  "papermill": {
   "default_parameters": {},
   "duration": 9.387787,
   "end_time": "2024-06-30T13:46:33.932922",
   "environment_variables": {},
   "exception": null,
   "input_path": "bpmn_generator/model/NLP_Model.ipynb",
   "output_path": "bpmn_generator/model/output_notebook.ipynb",
   "parameters": {
    "text": "JawaCorp identified a need for new computer hardware to upgrade their design department. An employee from the department drafted a purchase requisition detailing the specifications and quantity of the hardware needed. Since the purchase exceeded the company’s threshold for automatic approval, the requisition was routed to the department manager. After reviewing the necessity and budget implications, the manager approved the request. The procurement department then took over, conducting market research to identify potential suppliers. They reached out to several vendors, requesting quotes for the specified computer hardware. Once all quotes were received, the procurement team evaluated them based on price, warranty, delivery time, and vendor reliability. A supplier was selected for their competitive pricing and proven track record of timely deliveries. The procurement team created a purchase order (PO) and sent it to the chosen supplier, who confirmed receipt and agreed to fulfill the order as per the terms. Upon receiving the shipment, JawaCorp conducted a thorough quality check to ensure all hardware met their high standards. The goods passed inspection, and the finance department proceeded with processing payment to the supplier, successfully concluding JawaCorp’s procurement process"
   },
   "start_time": "2024-06-30T13:46:24.545135",
   "version": "2.6.0"
  }
 },
 "nbformat": 4,
 "nbformat_minor": 5
}